{
  "nbformat": 4,
  "nbformat_minor": 0,
  "metadata": {
    "colab": {
      "name": "Mongolian text classification #01, simple.ipynb",
      "version": "0.3.2",
      "provenance": [],
      "collapsed_sections": []
    },
    "kernelspec": {
      "name": "python3",
      "display_name": "Python 3"
    },
    "accelerator": "GPU"
  },
  "cells": [
    {
      "metadata": {
        "id": "muNP8k9fqaJb",
        "colab_type": "text"
      },
      "cell_type": "markdown",
      "source": [
        "Mongolian text classification series #01\n",
        "\n",
        "In this notebook I'm gonna try to classify cyrillic mongolian texts using modern Tensorflow 2.0\n",
        "\n",
        "Eduge dataset provided by Bolorsoft LLC\n",
        "\n",
        "Author : Sharavsambuu Gunchinish (sharavsambuu@gmail.com)\n",
        "\n",
        "Github: https://github.com/sharavsambuu/mongolian-text-classification \n",
        "\n"
      ]
    },
    {
      "metadata": {
        "id": "iY9jwdg6qT8M",
        "colab_type": "code",
        "colab": {
          "base_uri": "https://localhost:8080/",
          "height": 34
        },
        "outputId": "60a466bd-40ab-4cd2-ab41-77cf3aa93a40"
      },
      "cell_type": "code",
      "source": [
        "from __future__ import absolute_import, division, print_function, unicode_literals\n",
        "\n",
        "!pip install -q tensorflow==2.0.0-alpha0\n",
        "import tensorflow as tf\n",
        "from tensorflow import keras\n",
        "\n",
        "import numpy as np\n",
        "\n",
        "print(tf.__version__)"
      ],
      "execution_count": 1,
      "outputs": [
        {
          "output_type": "stream",
          "text": [
            "2.0.0-alpha0\n"
          ],
          "name": "stdout"
        }
      ]
    },
    {
      "metadata": {
        "id": "smJeJfoo4qcu",
        "colab_type": "text"
      },
      "cell_type": "markdown",
      "source": [
        "[More info about creation of eduge dataset pickles](https://github.com/sharavsambuu/mongolian-text-classification/blob/master/preprocess_dataset/preprocess_eduge.ipynb) "
      ]
    },
    {
      "metadata": {
        "id": "CDayX_Yx3REh",
        "colab_type": "code",
        "colab": {
          "base_uri": "https://localhost:8080/",
          "height": 544
        },
        "outputId": "189ae979-4ec1-43e8-a657-303f5bb0976a"
      },
      "cell_type": "code",
      "source": [
        "import os\n",
        "from os.path import exists, join, basename, splitext\n",
        "import sys\n",
        "\n",
        "def download_from_google_drive(file_id, file_name):\n",
        "  !rm -f ./cookie\n",
        "  !curl -c ./cookie -s -L \"https://drive.google.com/uc?export=download&id=$file_id\" > /dev/null\n",
        "  confirm_text = !awk '/download/ {print $NF}' ./cookie\n",
        "  confirm_text = confirm_text[0]\n",
        "  !curl -Lb ./cookie \"https://drive.google.com/uc?export=download&confirm=$confirm_text&id=$file_id\" -o $file_name\n",
        "  \n",
        "# download eduge pickles\n",
        "file_path = 'eduge_pickles'\n",
        "if not exists(file_path):\n",
        "  download_from_google_drive('1vjJ9YgIe8o0ErhbN0lH1XqPv3KFP8acv', '%s.rar' % file_path)\n",
        "  rar_file = file_path+\".rar\"\n",
        "  !unrar x $rar_file"
      ],
      "execution_count": 2,
      "outputs": [
        {
          "output_type": "stream",
          "text": [
            "  % Total    % Received % Xferd  Average Speed   Time    Time     Time  Current\n",
            "                                 Dload  Upload   Total   Spent    Left  Speed\n",
            "100   388    0   388    0     0   3079      0 --:--:-- --:--:-- --:--:--  3079\n",
            "100  106M    0  106M    0     0   130M      0 --:--:-- --:--:-- --:--:--  221M\n",
            "\n",
            "UNRAR 5.50 freeware      Copyright (c) 1993-2017 Alexander Roshal\n",
            "\n",
            "\n",
            "Extracting from eduge_pickles.rar\n",
            "\n",
            "\n",
            "Would you like to replace the existing file word_index.pickle\n",
            "9178153 bytes, modified on 2019-04-13 01:44\n",
            "with a new one\n",
            "9178153 bytes, modified on 2019-04-13 01:44\n",
            "\n",
            "[Y]es, [N]o, [A]ll, n[E]ver, [R]ename, [Q]uit y\n",
            "\n",
            "Extracting  word_index.pickle                                            \b\b\b\b  2%\b\b\b\b\b  OK \n",
            "\n",
            "Would you like to replace the existing file eduge.pickle\n",
            "359611555 bytes, modified on 2019-04-13 01:44\n",
            "with a new one\n",
            "359611555 bytes, modified on 2019-04-13 01:44\n",
            "\n",
            "[Y]es, [N]o, [A]ll, n[E]ver, [R]ename, [Q]uit A\n",
            "\n",
            "Extracting  eduge.pickle                                                 \b\b\b\b  6%\b\b\b\b 10%\b\b\b\b 14%\b\b\b\b 17%\b\b\b\b 21%\b\b\b\b 25%\b\b\b\b 29%\b\b\b\b 32%\b\b\b\b 36%\b\b\b\b 40%\b\b\b\b 44%\b\b\b\b 47%\b\b\b\b 51%\b\b\b\b\b  OK \n",
            "Extracting  eduge_stopwords_removed.pickle                               \b\b\b\b 55%\b\b\b\b 58%\b\b\b\b 62%\b\b\b\b 66%\b\b\b\b 70%\b\b\b\b 73%\b\b\b\b 77%\b\b\b\b 81%\b\b\b\b 85%\b\b\b\b 88%\b\b\b\b 92%\b\b\b\b 96%\b\b\b\b 97%\b\b\b\b\b  OK \n",
            "Extracting  reversed_word_index.pickle                                   \b\b\b\b 99%\b\b\b\b\b  OK \n",
            "All OK\n"
          ],
          "name": "stdout"
        }
      ]
    },
    {
      "metadata": {
        "id": "pPHJcnfi4Rzg",
        "colab_type": "code",
        "colab": {}
      },
      "cell_type": "code",
      "source": [
        "import pickle\n",
        "\n",
        "with open('word_index.pickle', 'rb') as handle:\n",
        "  word_index = pickle.load(handle)\n",
        "    \n",
        "with open('reversed_word_index.pickle', 'rb') as handle:\n",
        "  reversed_word_index = pickle.load(handle)\n",
        "  \n",
        "with open('eduge_stopwords_removed.pickle', 'rb') as handle:\n",
        "  eduge_ds = pickle.load(handle)"
      ],
      "execution_count": 0,
      "outputs": []
    },
    {
      "metadata": {
        "id": "XFxd1QGR65VV",
        "colab_type": "code",
        "colab": {}
      },
      "cell_type": "code",
      "source": [
        "MAX_LEN = 512\n",
        "\n",
        "import itertools\n",
        "\n",
        "for item in eduge_ds:\n",
        "  item[0] = list(itertools.chain(*item[0]))[:MAX_LEN]"
      ],
      "execution_count": 0,
      "outputs": []
    },
    {
      "metadata": {
        "id": "U8PTeX0WCbhR",
        "colab_type": "code",
        "colab": {}
      },
      "cell_type": "code",
      "source": [
        "from sklearn.model_selection import train_test_split\n",
        "train, test = train_test_split(eduge_ds, test_size=0.1, random_state=999)"
      ],
      "execution_count": 0,
      "outputs": []
    },
    {
      "metadata": {
        "id": "8mgMCFcgDHH4",
        "colab_type": "code",
        "colab": {}
      },
      "cell_type": "code",
      "source": [
        "train_data_words  = [i[0] for i in train]\n",
        "train_label_words = [i[1] for i in train]\n",
        "test_data_words   = [i[0] for i in test ]\n",
        "test_label_words  = [i[1] for i in test ]"
      ],
      "execution_count": 0,
      "outputs": []
    },
    {
      "metadata": {
        "id": "rrXC7UiuFkCH",
        "colab_type": "code",
        "colab": {}
      },
      "cell_type": "code",
      "source": [
        "def encode_news(text):\n",
        "    return [word_index.get(i, 2) for i in text]\n",
        "  \n",
        "train_data = [encode_news(sent) for sent in train_data_words]\n",
        "test_data  = [encode_news(sent) for sent in test_data_words ]"
      ],
      "execution_count": 0,
      "outputs": []
    },
    {
      "metadata": {
        "id": "FV-h_avPEzM1",
        "colab_type": "code",
        "colab": {}
      },
      "cell_type": "code",
      "source": [
        "train_data = keras.preprocessing.sequence.pad_sequences(train_data,\n",
        "                                                        value=word_index[\"<PAD>\"],\n",
        "                                                        padding='post',\n",
        "                                                        maxlen=MAX_LEN)\n",
        "\n",
        "test_data = keras.preprocessing.sequence.pad_sequences(test_data,\n",
        "                                                       value=word_index[\"<PAD>\"],\n",
        "                                                       padding='post',\n",
        "                                                       maxlen=MAX_LEN)"
      ],
      "execution_count": 0,
      "outputs": []
    },
    {
      "metadata": {
        "id": "gDVqmPqxIMid",
        "colab_type": "code",
        "colab": {
          "base_uri": "https://localhost:8080/",
          "height": 170
        },
        "outputId": "b36470a4-da9a-46d2-f449-64032c6164bf"
      },
      "cell_type": "code",
      "source": [
        "labels = list(set(test_label_words))\n",
        "labels"
      ],
      "execution_count": 9,
      "outputs": [
        {
          "output_type": "execute_result",
          "data": {
            "text/plain": [
              "['урлаг соёл',\n",
              " 'эдийн засаг',\n",
              " 'хууль',\n",
              " 'улс төр',\n",
              " 'технологи',\n",
              " 'боловсрол',\n",
              " 'байгал орчин',\n",
              " 'спорт',\n",
              " 'эрүүл мэнд']"
            ]
          },
          "metadata": {
            "tags": []
          },
          "execution_count": 9
        }
      ]
    },
    {
      "metadata": {
        "id": "PBKj3GQqJq29",
        "colab_type": "code",
        "colab": {}
      },
      "cell_type": "code",
      "source": [
        "from sklearn.preprocessing import LabelBinarizer\n",
        "encoder     = LabelBinarizer()\n",
        "train_label = transfomed_label = encoder.fit_transform(train_label_words)\n",
        "test_label  = transfomed_label = encoder.fit_transform(test_label_words )"
      ],
      "execution_count": 0,
      "outputs": []
    },
    {
      "metadata": {
        "id": "DPq45PN5HZ15",
        "colab_type": "code",
        "colab": {
          "base_uri": "https://localhost:8080/",
          "height": 289
        },
        "outputId": "1ecfbe57-5152-4fbc-929f-52b1e0bb5c5b"
      },
      "cell_type": "code",
      "source": [
        "vocab_size = len(word_index)\n",
        "\n",
        "model = keras.Sequential()\n",
        "model.add(keras.layers.Embedding(vocab_size, 16))\n",
        "model.add(keras.layers.GlobalAveragePooling1D())\n",
        "model.add(keras.layers.Dense(16, activation='relu'))\n",
        "model.add(keras.layers.Dense(len(labels), activation='sigmoid'))\n",
        "\n",
        "model.summary()"
      ],
      "execution_count": 11,
      "outputs": [
        {
          "output_type": "stream",
          "text": [
            "Model: \"sequential\"\n",
            "_________________________________________________________________\n",
            "Layer (type)                 Output Shape              Param #   \n",
            "=================================================================\n",
            "embedding (Embedding)        (None, None, 16)          5932704   \n",
            "_________________________________________________________________\n",
            "global_average_pooling1d (Gl (None, 16)                0         \n",
            "_________________________________________________________________\n",
            "dense (Dense)                (None, 16)                272       \n",
            "_________________________________________________________________\n",
            "dense_1 (Dense)              (None, 9)                 153       \n",
            "=================================================================\n",
            "Total params: 5,933,129\n",
            "Trainable params: 5,933,129\n",
            "Non-trainable params: 0\n",
            "_________________________________________________________________\n"
          ],
          "name": "stdout"
        }
      ]
    },
    {
      "metadata": {
        "id": "cAgP1KlqHu2F",
        "colab_type": "code",
        "colab": {}
      },
      "cell_type": "code",
      "source": [
        "model.compile(optimizer='adam',\n",
        "              loss='categorical_crossentropy',\n",
        "              metrics=['accuracy'])"
      ],
      "execution_count": 0,
      "outputs": []
    },
    {
      "metadata": {
        "id": "ZPw8roFQKrHm",
        "colab_type": "code",
        "colab": {
          "base_uri": "https://localhost:8080/",
          "height": 51
        },
        "outputId": "9f29c95c-8044-483a-95dc-f58173694f39"
      },
      "cell_type": "code",
      "source": [
        "print(len(train_data), len(train_label))\n",
        "print(len(test_data ), len(test_label) )\n",
        "\n",
        "partial_index = 3000\n",
        "\n",
        "x_val = train_data[:partial_index]\n",
        "partial_x_train = train_data[partial_index:]\n",
        "\n",
        "y_val = train_label[:partial_index]\n",
        "partial_y_train = train_label[partial_index:]"
      ],
      "execution_count": 13,
      "outputs": [
        {
          "output_type": "stream",
          "text": [
            "68094 68094\n",
            "7567 7567\n"
          ],
          "name": "stdout"
        }
      ]
    },
    {
      "metadata": {
        "id": "iSTB4--RKacs",
        "colab_type": "code",
        "colab": {
          "base_uri": "https://localhost:8080/",
          "height": 1074
        },
        "outputId": "e36d99c3-966b-4502-91fb-359d69fcbf0c"
      },
      "cell_type": "code",
      "source": [
        "epochs = 30\n",
        "history = model.fit(partial_x_train,\n",
        "                    partial_y_train,\n",
        "                    epochs=epochs,\n",
        "                    batch_size=512,\n",
        "                    validation_data=(x_val, y_val),\n",
        "                    verbose=1)"
      ],
      "execution_count": 14,
      "outputs": [
        {
          "output_type": "stream",
          "text": [
            "Train on 65094 samples, validate on 3000 samples\n",
            "Epoch 1/30\n",
            "65094/65094 [==============================] - 15s 235us/sample - loss: 2.1538 - accuracy: 0.2843 - val_loss: 2.0913 - val_accuracy: 0.2657\n",
            "Epoch 2/30\n",
            "65094/65094 [==============================] - 15s 229us/sample - loss: 1.9881 - accuracy: 0.2770 - val_loss: 1.8629 - val_accuracy: 0.3077\n",
            "Epoch 3/30\n",
            "65094/65094 [==============================] - 15s 225us/sample - loss: 1.6950 - accuracy: 0.3745 - val_loss: 1.5445 - val_accuracy: 0.4200\n",
            "Epoch 4/30\n",
            "65094/65094 [==============================] - 15s 230us/sample - loss: 1.3951 - accuracy: 0.5011 - val_loss: 1.2911 - val_accuracy: 0.5603\n",
            "Epoch 5/30\n",
            "65094/65094 [==============================] - 15s 230us/sample - loss: 1.1536 - accuracy: 0.6413 - val_loss: 1.0813 - val_accuracy: 0.6913\n",
            "Epoch 6/30\n",
            "65094/65094 [==============================] - 15s 232us/sample - loss: 0.9536 - accuracy: 0.7518 - val_loss: 0.9165 - val_accuracy: 0.7713\n",
            "Epoch 7/30\n",
            "65094/65094 [==============================] - 15s 233us/sample - loss: 0.8139 - accuracy: 0.7943 - val_loss: 0.8157 - val_accuracy: 0.7927\n",
            "Epoch 8/30\n",
            "65094/65094 [==============================] - 15s 231us/sample - loss: 0.7206 - accuracy: 0.8194 - val_loss: 0.7433 - val_accuracy: 0.8063\n",
            "Epoch 9/30\n",
            "65094/65094 [==============================] - 15s 231us/sample - loss: 0.6492 - accuracy: 0.8353 - val_loss: 0.6874 - val_accuracy: 0.8213\n",
            "Epoch 10/30\n",
            "65094/65094 [==============================] - 15s 234us/sample - loss: 0.5907 - accuracy: 0.8507 - val_loss: 0.6448 - val_accuracy: 0.8290\n",
            "Epoch 11/30\n",
            "65094/65094 [==============================] - 15s 230us/sample - loss: 0.5416 - accuracy: 0.8638 - val_loss: 0.6079 - val_accuracy: 0.8400\n",
            "Epoch 12/30\n",
            "65094/65094 [==============================] - 15s 231us/sample - loss: 0.4993 - accuracy: 0.8738 - val_loss: 0.5771 - val_accuracy: 0.8487\n",
            "Epoch 13/30\n",
            "65094/65094 [==============================] - 15s 232us/sample - loss: 0.4623 - accuracy: 0.8840 - val_loss: 0.5505 - val_accuracy: 0.8513\n",
            "Epoch 14/30\n",
            "65094/65094 [==============================] - 15s 236us/sample - loss: 0.4292 - accuracy: 0.8932 - val_loss: 0.5275 - val_accuracy: 0.8607\n",
            "Epoch 15/30\n",
            "65094/65094 [==============================] - 15s 233us/sample - loss: 0.3999 - accuracy: 0.9009 - val_loss: 0.5090 - val_accuracy: 0.8660\n",
            "Epoch 16/30\n",
            "65094/65094 [==============================] - 15s 231us/sample - loss: 0.3737 - accuracy: 0.9074 - val_loss: 0.4909 - val_accuracy: 0.8700\n",
            "Epoch 17/30\n",
            "65094/65094 [==============================] - 15s 230us/sample - loss: 0.3507 - accuracy: 0.9127 - val_loss: 0.4773 - val_accuracy: 0.8713\n",
            "Epoch 18/30\n",
            "65094/65094 [==============================] - 15s 232us/sample - loss: 0.3300 - accuracy: 0.9181 - val_loss: 0.4670 - val_accuracy: 0.8763\n",
            "Epoch 19/30\n",
            "65094/65094 [==============================] - 15s 231us/sample - loss: 0.3118 - accuracy: 0.9225 - val_loss: 0.4577 - val_accuracy: 0.8740\n",
            "Epoch 20/30\n",
            "65094/65094 [==============================] - 15s 231us/sample - loss: 0.2951 - accuracy: 0.9267 - val_loss: 0.4465 - val_accuracy: 0.8757\n",
            "Epoch 21/30\n",
            "65094/65094 [==============================] - 15s 233us/sample - loss: 0.2796 - accuracy: 0.9302 - val_loss: 0.4388 - val_accuracy: 0.8787\n",
            "Epoch 22/30\n",
            "65094/65094 [==============================] - 15s 232us/sample - loss: 0.2658 - accuracy: 0.9336 - val_loss: 0.4341 - val_accuracy: 0.8807\n",
            "Epoch 23/30\n",
            "65094/65094 [==============================] - 15s 230us/sample - loss: 0.2528 - accuracy: 0.9371 - val_loss: 0.4294 - val_accuracy: 0.8800\n",
            "Epoch 24/30\n",
            "65094/65094 [==============================] - 15s 229us/sample - loss: 0.2409 - accuracy: 0.9402 - val_loss: 0.4240 - val_accuracy: 0.8823\n",
            "Epoch 25/30\n",
            "65094/65094 [==============================] - 15s 233us/sample - loss: 0.2295 - accuracy: 0.9429 - val_loss: 0.4229 - val_accuracy: 0.8817\n",
            "Epoch 26/30\n",
            "65094/65094 [==============================] - 15s 231us/sample - loss: 0.2187 - accuracy: 0.9461 - val_loss: 0.4168 - val_accuracy: 0.8843\n",
            "Epoch 27/30\n",
            "65094/65094 [==============================] - 15s 232us/sample - loss: 0.2089 - accuracy: 0.9487 - val_loss: 0.4161 - val_accuracy: 0.8820\n",
            "Epoch 28/30\n",
            "65094/65094 [==============================] - 15s 233us/sample - loss: 0.1997 - accuracy: 0.9510 - val_loss: 0.4140 - val_accuracy: 0.8833\n",
            "Epoch 29/30\n",
            "65094/65094 [==============================] - 15s 231us/sample - loss: 0.1906 - accuracy: 0.9529 - val_loss: 0.4132 - val_accuracy: 0.8870\n",
            "Epoch 30/30\n",
            "65094/65094 [==============================] - 15s 235us/sample - loss: 0.1820 - accuracy: 0.9550 - val_loss: 0.4130 - val_accuracy: 0.8863\n"
          ],
          "name": "stdout"
        }
      ]
    },
    {
      "metadata": {
        "id": "r8_mvDjYL3CX",
        "colab_type": "code",
        "colab": {
          "base_uri": "https://localhost:8080/",
          "height": 51
        },
        "outputId": "655983bf-eb6b-465c-fc8f-cf127a593ae1"
      },
      "cell_type": "code",
      "source": [
        "results = model.evaluate(test_data, test_label)\n",
        "print(results)"
      ],
      "execution_count": 15,
      "outputs": [
        {
          "output_type": "stream",
          "text": [
            "7567/7567 [==============================] - 0s 52us/sample - loss: 0.4103 - accuracy: 0.8936\n",
            "[0.4103335821194946, 0.89361703]\n"
          ],
          "name": "stdout"
        }
      ]
    },
    {
      "metadata": {
        "id": "VaIioR7EPfig",
        "colab_type": "code",
        "colab": {
          "base_uri": "https://localhost:8080/",
          "height": 71
        },
        "outputId": "efbd2dfc-35ed-4d17-b6b8-eee6689e1b24"
      },
      "cell_type": "code",
      "source": [
        "data_index   = 12\n",
        "data_words   = \" \".join(test_data_words[data_index])\n",
        "data_indexes = test_data[data_index]\n",
        "print(data_words)\n",
        "#print(data_indexes)\n",
        "import numpy as np\n",
        "predicted = model.predict([data_indexes])\n",
        "print(encoder.classes_[np.argmax(predicted)])"
      ],
      "execution_count": 16,
      "outputs": [
        {
          "output_type": "stream",
          "text": [
            "спортын төв ордонд өнөөдөр азийн оюутны аварга шалгаруулах эмэгтэй волейболчдын хоёр дахь удаагийн тэмцээний талаар мэдээлэл хийлээ анхны тэмцээн онд тайландын бангконг хотноо болж хоёрдугаар тэмцээнийг азийн оюутны спортын холбооноос аосх олгосон эрхийн дагуу оны дөрөвдүгээр сарын ны өдрүүдэд монгол улсын нийслэл улаанбаатар хотноо зохион байгуулах тэмцээний эрхийг монгол улс оны тавдугаар сарын хуралдсан аосхны гүйцэтгэх хорооны хурлаар хоёр оронтой өрсөлдөн авчээ уг тэмцээнийг монгол улсад авах талаар мосхолбоо оноос санаачлага гарган хөөцөлдөж эхэлсэн тэмцээний эрхийг авахад муын засгийн газрын санхүүгийн дэмжлэг мэргэжлийн холбоодын ажлын туршлага манай улсын олон улсын нэр хүнд ихээхэн тус хүргэжээ зохион байгуулах хороог с ламбаа удирдаж тэмцээний зохион байгуулах хороог збх эрүүл мэндийн сайдын оны тоот тушаалаар батлаж даргаар уихын гишүүн монголын волейболын холбооны мвх хүндэт ерөнхийлөгч сламбаа ажиллаж збхны орлогч даргаар згхагентлагбтсгын дарга чнаранбаатар збхны нарийн бичгийн даргаар монголын оюутны спортын холбооны мосх ерөнхий нарийн бичгийн дарга джаргалсайхан збхны гишүүдэд бсшуяны төрийн нарийн бичгийн дарга ддалайжаргал нийслэлийн здтгазрын дарга цболдсайхан сяны газрын дарга дбатжаргал гхяамны консулын газрын дарга дганхуяг бсшуяны мэргэжлийн боловсролын газрын дарга мбаасанжав гихалбаны дарга дмөрөн мосхны ерөнхийлөгч оуосхны ерөнхий санхүүч дбаясгалан муисийн ректор стөмөрочир мубисийн ректор бжадамба залуу монгол корпорацийн ерөнхийлөгч мсономпил мохны ерөнхий нарийн бичгийн дарга нбямбагэрэл мвхолбооны ерөнхий нарий бичгийн дарга цбатэнх миат хкийн маркетинг борлуулатын хэлтсийн дарга тмэндсайхан боловсрол суваг телевизийн ерөнхий захирал аамундра нар сонгогдон ажиллаж тэмцээнийг үнэ төлбөргүй үзүүлнэ волейболын болон оюутны спортыг сурталчилах дэлгэрүүлэх үүднээс тэмцээнийг үнэ төлбөргүй үзүүлэхээр збхорооны анхдугаар хурлаас шийдвэрлэсэн нийслэлийн иргэдийг тэмцээнийг өргөнөөр үзэхийг здтгазраас уриалсан тэмцээнийг зөвхөн улаанбаатар хотын иргэд бус аймгаас волейболын спортыг сонирхон хөгжөөн дэмжигч үзэгч волейболын спортын мэргэжилтэн багш нар секцэнд хичээллэгч хүүхдүүд зохион байгуулалтай ирэхээр ялангуяа тэмцээн болох газартай хамгийн ойрхон хануул дүүргийн здтгазар дүүргийнхээ ард иргэд хөдөлмөрчид сургуулийн сурагчид оюутнууд цэргийн албан хаагчид буянтухаа орчимын албан байгууллага хамт олныг идэвхтэй оролцуулах арга хэмжээ авч эхлэжээ олон зуун оюутнууд тэмцээн үзэх боллоо тэмцээний өдрүүдэд нийслэлээс буянтухаагийн спортын ордонг чиглэсэн хүмүүсийн цуваа ихсэх төлөвтэй учир нийслэлд үйл ажиллагаа явуулж байгаа орчим идсийн оюутнууд тэмцээнийг анги сургууль хамт олноороо үзэх сонирхолтой байгаагаа монголын оюутны холбоо биеийн тамирын тэнхимдээ хүсчээ үүний дагуу бсшуяам мох монголын оюутны спортын холбоо мосх ноос тэмцээнийг өдөр бүр гаруй сургуулийн орчим оюутнууд нэгдсэн хуваарийн дагуу үзэх хуваарийг бсшуяны төрийн нарийн бичгийн дарга зохион байгуулах үндэсний хороо збх ны гишүүн ддалайжаргал батлан сургуулиудад албан тоотоор хүргүүлжээ мосхд тэмцээнийг үзэхээр олон арван сургуулиуд оюутны тоогоо өгч бүртгүүлж суудлын хувиарлалтанд орж байгаа ажээ ялангуяа биеийн тамирын мэргэжлийн дээд сургуулийн оюутнууд дадлага хичээлээ тэмцээний үеэр хийхээр хичээлийн хувиараа зохицуулсан нийслэлийн засаг дарга оюутнуудад туслав улаанбаатар хотноо болдог оюутны олон улс тив дэлхийн тэмцээн бүрт нийслэлийн засаг дарга гмөнхбаяр ихээхэн туслалцаа үзүүлэн оюутан залуусаа байнга дэмжин оролцдог ажээ тэрээр тус тэмцээнд оролцохоор бэлтгэж байгаа монголын оюутны шигшээ багийн тамирчидын хоногийн бэлтгэл сургалтын зардлыг хариуцан гаргасан хөрөнгө санхүүгийн хүндрэлтэй байгаа үеэд тэмцээнд бэлтгэж байгаа оюутан тамирчидаа цагаа олж хэрэгцээтэй үеэд дэмжлээ мосхолбоо монголын волейболын холбоо мвх тамирчидынхаа өмнөөс талархал илэрхийлжээ монголын баг тамирчид эрдэнэт хотод оны сарын өдрөөс эхлэн хоногийн бэлтгэл хийснийхээ дараа ийнхүү нийслэлийн засаг даргын туслалцаатайгаар гадаадын тамирчидтай хамт байрлах цэцэг зочид буудалдаа орж бэлтгэл сургуулиалтаа үргэлжүүлэх боломжтой нздтгазраас баг\n",
            "спорт\n"
          ],
          "name": "stdout"
        }
      ]
    }
  ]
}