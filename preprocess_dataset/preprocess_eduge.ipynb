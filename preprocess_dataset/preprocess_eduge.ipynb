{
 "cells": [
  {
   "cell_type": "code",
   "execution_count": 3,
   "metadata": {},
   "outputs": [
    {
     "name": "stderr",
     "output_type": "stream",
     "text": [
      "SYSTEM_WGETRC = c:/progra~1/wget/etc/wgetrc\n",
      "syswgetrc = C:\\Program Files (x86)\\GnuWin32/etc/wgetrc\n",
      "--2019-04-13 07:30:06--  https://github.com/tugstugi/mongolian-nlp/raw/master/datasets/eduge.csv.gz\n",
      "Resolving github.com... 13.250.177.223, 13.229.188.59, 52.74.223.119\n",
      "Connecting to github.com|13.250.177.223|:443... connected.\n",
      "OpenSSL: error:1407742E:SSL routines:SSL23_GET_SERVER_HELLO:tlsv1 alert protocol version\n",
      "Unable to establish SSL connection.\n",
      "'gunzip' is not recognized as an internal or external command,\n",
      "operable program or batch file.\n"
     ]
    }
   ],
   "source": [
    "import os\n",
    "if not os.path.exists(\"eduge.csv.gz\"):\n",
    "  !wget https://github.com/tugstugi/mongolian-nlp/raw/master/datasets/eduge.csv.gz\n",
    "  !gunzip eduge.csv.gz"
   ]
  },
  {
   "cell_type": "code",
   "execution_count": 1,
   "metadata": {},
   "outputs": [
    {
     "data": {
      "text/plain": [
       "['урлаг соёл',\n",
       " 'эдийн засаг',\n",
       " 'эрүүл мэнд',\n",
       " 'хууль',\n",
       " 'улс төр',\n",
       " 'спорт',\n",
       " 'технологи',\n",
       " 'боловсрол',\n",
       " 'байгал орчин']"
      ]
     },
     "execution_count": 1,
     "metadata": {},
     "output_type": "execute_result"
    }
   ],
   "source": [
    "import pandas as pd\n",
    "df = pd.read_csv(\"eduge.csv\")\n",
    "df = df.rename(columns=lambda x: x.strip())\n",
    "labels = df['label'].unique().tolist()\n",
    "labels"
   ]
  },
  {
   "cell_type": "code",
   "execution_count": 2,
   "metadata": {},
   "outputs": [
    {
     "name": "stderr",
     "output_type": "stream",
     "text": [
      "[nltk_data] Downloading package punkt to C:\\Users\\sharavsambuu-\n",
      "[nltk_data]     laptop\\AppData\\Roaming\\nltk_data...\n"
     ]
    },
    {
     "name": "stdout",
     "output_type": "stream",
     "text": [
      "['Сайн байна уу?', 'Танд энэ өдрийн мэнд хүргье.', 'Монгол текст ангилах гэж байна.']\n",
      "['Монгол', 'улсын', 'их', 'хурал']\n"
     ]
    },
    {
     "name": "stderr",
     "output_type": "stream",
     "text": [
      "[nltk_data]   Package punkt is already up-to-date!\n"
     ]
    }
   ],
   "source": [
    "import nltk\n",
    "nltk.download('punkt')\n",
    "print(nltk.sent_tokenize(\"Сайн байна уу? Танд энэ өдрийн мэнд хүргье. Монгол текст ангилах гэж байна.\"))\n",
    "print(nltk.word_tokenize(\"Монгол улсын их хурал\"))"
   ]
  },
  {
   "cell_type": "code",
   "execution_count": 6,
   "metadata": {},
   "outputs": [],
   "source": [
    "import string\n",
    "stopwordsmn = ['аа','аанхаа','алив','ба','байдаг','байжээ','байна','байсаар','байсан','байхаа','бас','бишүү','бол','болжээ','болно','болоо','бэ','вэ','гэж','гэжээ','гэлтгүй','гэсэн','гэтэл','за','л','мөн','нь','тэр','уу','харин','хэн','ч','энэ','ээ','юм','үү','?','', '.', ',', '-','ийн','ын','тай','г','ийг','д','н','ний','дээр','юу']\n",
    "eduge_preprocessed           = []\n",
    "eduge_preprocessed_stopwords = []\n",
    "word_dict   = {}\n",
    "for idx, row in df.iterrows():\n",
    "    news  = row['news']\n",
    "    label = row['label']\n",
    "    sentences = nltk.sent_tokenize(news)\n",
    "    news_sentences           = []\n",
    "    news_sentences_stopwords = []\n",
    "    for sentence in sentences:\n",
    "        tokens   = nltk.word_tokenize(sentence)\n",
    "        tokens   = [w.lower() for w in tokens]\n",
    "        table    = str.maketrans('', '', string.punctuation)\n",
    "        stripped = [w.translate(table) for w in tokens]\n",
    "        words    = [word for word in stripped if word.isalpha()]\n",
    "        words_stopwords = [w for w in words if not w in stopwordsmn]\n",
    "        news_sentences.append(words)\n",
    "        news_sentences_stopwords.append(words_stopwords)\n",
    "        for w in words:\n",
    "            word_dict[w] = 0\n",
    "    eduge_preprocessed.append([news_sentences, label])\n",
    "    eduge_preprocessed_stopwords.append([news_sentences_stopwords, label])"
   ]
  },
  {
   "cell_type": "code",
   "execution_count": null,
   "metadata": {},
   "outputs": [],
   "source": [
    "import pickle\n",
    "\n",
    "with open('eduge.pickle', 'wb') as handle:\n",
    "    pickle.dump(eduge_preprocessed, handle, protocol=pickle.HIGHEST_PROTOCOL)\n",
    "    print(\"saved to eduge.pickle\")"
   ]
  },
  {
   "cell_type": "code",
   "execution_count": 10,
   "metadata": {},
   "outputs": [
    {
     "name": "stdout",
     "output_type": "stream",
     "text": [
      "saved to eduge_stopwords_removed.pickle\n"
     ]
    }
   ],
   "source": [
    "with open('eduge_stopwords_removed.pickle', 'wb') as handle:\n",
    "    pickle.dump(eduge_preprocessed_stopwords, handle, protocol=pickle.HIGHEST_PROTOCOL)\n",
    "    print(\"saved to eduge_stopwords_removed.pickle\")"
   ]
  },
  {
   "cell_type": "code",
   "execution_count": 12,
   "metadata": {},
   "outputs": [],
   "source": [
    "word_index = {}\n",
    "word_index[\"<PAD>\"   ] = 0\n",
    "word_index[\"<START>\" ] = 1\n",
    "word_index[\"<UNK>\"   ] = 2\n",
    "word_index[\"<UNUSED>\"] = 3\n",
    "cnt = 4\n",
    "for k, v in word_dict.items():\n",
    "    word_index[k] = cnt\n",
    "    cnt += 1\n",
    "#print(word_index)"
   ]
  },
  {
   "cell_type": "code",
   "execution_count": 15,
   "metadata": {},
   "outputs": [],
   "source": [
    "reversed_word_index = dict([(value, key) for (key, value) in word_index.items()])"
   ]
  },
  {
   "cell_type": "code",
   "execution_count": 16,
   "metadata": {},
   "outputs": [
    {
     "name": "stdout",
     "output_type": "stream",
     "text": [
      "saved to word_index.pickle\n",
      "saved to reversed_word_index.pickle\n"
     ]
    }
   ],
   "source": [
    "with open('word_index.pickle', 'wb') as handle:\n",
    "    pickle.dump(word_index, handle, protocol=pickle.HIGHEST_PROTOCOL)\n",
    "    print(\"saved to word_index.pickle\")\n",
    "    \n",
    "with open('reversed_word_index.pickle', 'wb') as handle:\n",
    "    pickle.dump(reversed_word_index, handle, protocol=pickle.HIGHEST_PROTOCOL)\n",
    "    print(\"saved to reversed_word_index.pickle\")"
   ]
  }
 ],
 "metadata": {
  "kernelspec": {
   "display_name": "Python 3",
   "language": "python",
   "name": "python3"
  },
  "language_info": {
   "codemirror_mode": {
    "name": "ipython",
    "version": 3
   },
   "file_extension": ".py",
   "mimetype": "text/x-python",
   "name": "python",
   "nbconvert_exporter": "python",
   "pygments_lexer": "ipython3",
   "version": "3.6.7"
  }
 },
 "nbformat": 4,
 "nbformat_minor": 2
}
